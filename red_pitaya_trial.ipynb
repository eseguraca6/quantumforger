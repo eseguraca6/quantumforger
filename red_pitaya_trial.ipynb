{
 "cells": [
  {
   "cell_type": "code",
   "execution_count": 8,
   "id": "54500038",
   "metadata": {},
   "outputs": [],
   "source": [
    "#this is the module that access the pyprl library\n",
    "#https://pyrpl.readthedocs.io/en/latest/\n",
    "\n",
    "import pyrpl"
   ]
  },
  {
   "cell_type": "code",
   "execution_count": 9,
   "id": "fa6a0e13",
   "metadata": {},
   "outputs": [],
   "source": [
    "#this the hostname ip addressed we established to talk to the red pitaya \n",
    "#look more in here too : https://pyrpl.readthedocs.io/en/latest/user_guide/tutorial/\n",
    "HOSTNAME = \"192.168.8.8\""
   ]
  },
  {
   "cell_type": "code",
   "execution_count": 10,
   "id": "57f98763",
   "metadata": {},
   "outputs": [
    {
     "name": "stdout",
     "output_type": "stream",
     "text": [
      "192.168.8.8\n"
     ]
    }
   ],
   "source": [
    "print(HOSTNAME)"
   ]
  },
  {
   "cell_type": "code",
   "execution_count": 11,
   "id": "f010922c",
   "metadata": {},
   "outputs": [],
   "source": [
    "from pyrpl import Pyrpl"
   ]
  },
  {
   "cell_type": "code",
   "execution_count": 15,
   "id": "96226735",
   "metadata": {},
   "outputs": [
    {
     "name": "stderr",
     "output_type": "stream",
     "text": [
      "INFO:pyrpl:Please select or create a configuration file in the file selector window!\n",
      "INFO:pyrpl.redpitaya:Successfully connected to Redpitaya with hostname 192.168.8.8.\n",
      "ERROR:pyrpl.redpitaya_client:Error occured in reading attempt 0. Reconnecting at addr 0x40100014 to _reads value 1 by client 5\n"
     ]
    }
   ],
   "source": [
    "#here we actually connect to device. \n",
    "#it will prompt a window asking for a config file \n",
    "#at the moment, we just skip it and so far it has connected \n",
    "# TODO: Figure out if we need a config file \n",
    "\n",
    "p = Pyrpl(hostname=HOSTNAME)"
   ]
  },
  {
   "cell_type": "markdown",
   "id": "fd923b6e",
   "metadata": {},
   "source": [
    "r.hk #\"housekeeping\" = LEDs and digital inputs/outputs\n",
    "r.ams #\"analog mixed signals\" = auxiliary ADCs and DACs.\n",
    "\n",
    "r.scope #oscilloscope interface\n",
    "\n",
    "r.asg1 #\"arbitrary signal generator\" channel 1\n",
    "r.asg2 #\"arbitrary signal generator\" channel 2\n",
    "\n",
    "r.pid0 #first of four PID modules\n",
    "r.pid1\n",
    "r.pid2\n",
    "r.pid3\n",
    "\n",
    "r.iq0 #first of three I+Q quadrature demodulation/modulation modules\n",
    "r.iq1\n",
    "r.iq2\n",
    "\n",
    "r.iir #\"infinite impules response\" filter module that can realize complex transfer functions"
   ]
  },
  {
   "cell_type": "code",
   "execution_count": 18,
   "id": "d695182a",
   "metadata": {},
   "outputs": [
    {
     "name": "stderr",
     "output_type": "stream",
     "text": [
      "ERROR:pyrpl.redpitaya_client:Error occured in reading attempt 0. Reconnecting at addr 0x40100154 to _reads value 1 by client 10\n"
     ]
    },
    {
     "name": "stdout",
     "output_type": "stream",
     "text": [
      "-0.0164794921875\n"
     ]
    },
    {
     "name": "stderr",
     "output_type": "stream",
     "text": [
      "ERROR:pyrpl.redpitaya_client:Error occured in reading attempt 0. Reconnecting at addr 0x40100014 to _reads value 1 by client 11\n"
     ]
    }
   ],
   "source": [
    "r = p.rp\n",
    "\n",
    "print(r.scope.voltage_in1) \n",
    "\n",
    "#TODO: Make a voltage on out1 (via a signal maybe )and \n",
    "#check in here if it matches what we want (the voltage amplitude) \n",
    "#in this scope provided there's a bnc from out1 to in1."
   ]
  },
  {
   "cell_type": "code",
   "execution_count": 6,
   "id": "e37176d0",
   "metadata": {},
   "outputs": [
    {
     "ename": "NameError",
     "evalue": "name 'r' is not defined",
     "output_type": "error",
     "traceback": [
      "\u001b[0;31m---------------------------------------------------------------------------\u001b[0m",
      "\u001b[0;31mNameError\u001b[0m                                 Traceback (most recent call last)",
      "\u001b[0;32m/var/folders/xx/3bgmdh9d4rz6b2xlvtt6zkx40000gn/T/ipykernel_5033/35433656.py\u001b[0m in \u001b[0;36m<module>\u001b[0;34m\u001b[0m\n\u001b[1;32m      7\u001b[0m \u001b[0;32mfor\u001b[0m \u001b[0mi\u001b[0m \u001b[0;32min\u001b[0m \u001b[0mrange\u001b[0m\u001b[0;34m(\u001b[0m\u001b[0mn\u001b[0m\u001b[0;34m)\u001b[0m\u001b[0;34m:\u001b[0m\u001b[0;34m\u001b[0m\u001b[0;34m\u001b[0m\u001b[0m\n\u001b[1;32m      8\u001b[0m     \u001b[0mtimes\u001b[0m\u001b[0;34m.\u001b[0m\u001b[0mappend\u001b[0m\u001b[0;34m(\u001b[0m\u001b[0mtime\u001b[0m\u001b[0;34m.\u001b[0m\u001b[0mtime\u001b[0m\u001b[0;34m(\u001b[0m\u001b[0;34m)\u001b[0m\u001b[0;34m-\u001b[0m\u001b[0mt0\u001b[0m\u001b[0;34m)\u001b[0m\u001b[0;34m\u001b[0m\u001b[0;34m\u001b[0m\u001b[0m\n\u001b[0;32m----> 9\u001b[0;31m     \u001b[0mdata\u001b[0m\u001b[0;34m.\u001b[0m\u001b[0mappend\u001b[0m\u001b[0;34m(\u001b[0m\u001b[0mr\u001b[0m\u001b[0;34m.\u001b[0m\u001b[0mscope\u001b[0m\u001b[0;34m.\u001b[0m\u001b[0mvoltage_in1\u001b[0m\u001b[0;34m)\u001b[0m\u001b[0;34m\u001b[0m\u001b[0;34m\u001b[0m\u001b[0m\n\u001b[0m\u001b[1;32m     10\u001b[0m \u001b[0mprint\u001b[0m\u001b[0;34m(\u001b[0m\u001b[0;34m\"Rough time to read one FPGA register: \"\u001b[0m\u001b[0;34m,\u001b[0m \u001b[0;34m(\u001b[0m\u001b[0mtime\u001b[0m\u001b[0;34m.\u001b[0m\u001b[0mtime\u001b[0m\u001b[0;34m(\u001b[0m\u001b[0;34m)\u001b[0m\u001b[0;34m-\u001b[0m\u001b[0mt0\u001b[0m\u001b[0;34m)\u001b[0m\u001b[0;34m/\u001b[0m\u001b[0mn\u001b[0m\u001b[0;34m*\u001b[0m\u001b[0;36m1e6\u001b[0m\u001b[0;34m,\u001b[0m \u001b[0;34m\"?s\"\u001b[0m\u001b[0;34m)\u001b[0m\u001b[0;34m\u001b[0m\u001b[0;34m\u001b[0m\u001b[0m\n\u001b[1;32m     11\u001b[0m \u001b[0mget_ipython\u001b[0m\u001b[0;34m(\u001b[0m\u001b[0;34m)\u001b[0m\u001b[0;34m.\u001b[0m\u001b[0mrun_line_magic\u001b[0m\u001b[0;34m(\u001b[0m\u001b[0;34m'matplotlib'\u001b[0m\u001b[0;34m,\u001b[0m \u001b[0;34m'inline'\u001b[0m\u001b[0;34m)\u001b[0m\u001b[0;34m\u001b[0m\u001b[0;34m\u001b[0m\u001b[0m\n",
      "\u001b[0;31mNameError\u001b[0m: name 'r' is not defined"
     ]
    }
   ],
   "source": [
    "#see how the adc reading fluctuates over time\n",
    "import time\n",
    "from matplotlib import pyplot as plt\n",
    "times, data = [],[]\n",
    "t0 = time.time()\n",
    "n = 3000\n",
    "for i in range(n):\n",
    "    times.append(time.time()-t0)\n",
    "    data.append(r.scope.voltage_in1)\n",
    "print(\"Rough time to read one FPGA register: \", (time.time()-t0)/n*1e6, \"?s\")\n",
    "%matplotlib inline\n",
    "f, axarr = plt.subplots(1,2, sharey=True)\n",
    "axarr[0].plot(times, data, \"+\")\n",
    "axarr[0].set_title(\"ADC voltage vs time\")\n",
    "axarr[1].hist(data, bins=50,density=True, orientation=\"horizontal\")\n",
    "axarr[1].set_title(\"ADC voltage histogram\")"
   ]
  },
  {
   "cell_type": "code",
   "execution_count": 10,
   "id": "3f1ea18a",
   "metadata": {
    "scrolled": false
   },
   "outputs": [
    {
     "name": "stdout",
     "output_type": "stream",
     "text": [
      "done\n"
     ]
    }
   ],
   "source": [
    "#blink some leds for 5 seconds\n",
    "from time import sleep\n",
    "for i in range(256):\n",
    "    r.hk.led = i\n",
    "    sleep(0.05)\n",
    "    \n",
    "print('done')"
   ]
  },
  {
   "cell_type": "code",
   "execution_count": 11,
   "id": "14d47abd",
   "metadata": {},
   "outputs": [],
   "source": [
    "#turn the lights off \n",
    "r.hk.led = 256"
   ]
  },
  {
   "cell_type": "code",
   "execution_count": 9,
   "id": "f5905044",
   "metadata": {},
   "outputs": [],
   "source": [
    "r.hk.led =256"
   ]
  },
  {
   "cell_type": "markdown",
   "id": "d1f78101",
   "metadata": {},
   "source": [
    "measure a few signal values\n",
    "print(\"Voltage at analog input1: %.3f\" % r.sampler.in1,r.scope.voltage_in1)\n",
    "print(\"Voltage at analog output2: %.3f\" % r.sampler.out2,r.scope.voltage_in2)\n",
    "print(\"Voltage at the digital filter's output: %.3f\" % r.sampler.iir)"
   ]
  },
  {
   "cell_type": "code",
   "execution_count": 20,
   "id": "1d3fc677",
   "metadata": {},
   "outputs": [],
   "source": [
    "asg = r.asg1 # I am trying to make a short cut to the signal generator in channel 1. \n",
    "#Question: is this the same  the signal coming out of out1. "
   ]
  },
  {
   "cell_type": "code",
   "execution_count": 21,
   "id": "7953f7a8",
   "metadata": {},
   "outputs": [
    {
     "name": "stdout",
     "output_type": "stream",
     "text": [
      "Trigger sources: odict_keys(['off', 'immediately', 'ext_positive_edge', 'ext_negative_edge', 'ext_raw', 'high'])\n",
      "Output options:  odict_keys(['off', 'out1', 'out2', 'both'])\n"
     ]
    }
   ],
   "source": [
    "print(\"Trigger sources:\", asg.trigger_sources)\n",
    "print(\"Output options: \", asg.output_directs)"
   ]
  },
  {
   "cell_type": "code",
   "execution_count": 37,
   "id": "79b4cba7",
   "metadata": {},
   "outputs": [
    {
     "name": "stdout",
     "output_type": "stream",
     "text": [
      "done\n"
     ]
    }
   ],
   "source": [
    "# here we are trying to make the signal on out0.\n",
    "# TODO: test the trigger options (see above), output options. \n",
    "\n",
    "r.asg0.setup(waveform='sin',\n",
    "             amplitude=1.0,\n",
    "             frequency=1e3,\n",
    "             output_direct='out2', offset=0, trigger_source='immediately')\n",
    "\n",
    "print('done')"
   ]
  },
  {
   "cell_type": "code",
   "execution_count": 42,
   "id": "0edc18f4",
   "metadata": {},
   "outputs": [],
   "source": [
    "#r.asg0.output_direct= \"off\" I was thinking this line would turn off output in out0"
   ]
  },
  {
   "cell_type": "code",
   "execution_count": 22,
   "id": "91ada59d",
   "metadata": {},
   "outputs": [
    {
     "name": "stdout",
     "output_type": "stream",
     "text": [
      "Available decimation factors: odict_keys([1, 2, 4, 8, 16, 32, 64, 128, 256, 512, 1024, 2048, 4096, 8192, 16384, 32768, 65536])\n",
      "Trigger sources: odict_keys(['off', 'immediately', 'ch1_positive_edge', 'ch1_negative_edge', 'ch2_positive_edge', 'ch2_negative_edge', 'ext_positive_edge', 'ext_negative_edge', 'asg0', 'asg1', 'dsp'])\n",
      "Available inputs:  ['in1', 'in2', 'out1', 'out2', 'iq0', 'iq1', 'iq2', 'iq2_2', 'pid0', 'pid1', 'pid2', 'asg0', 'asg1', 'trig', 'iir', 'off', 'networkanalyzer', 'lockbox.inputs.input_from_output', 'lockbox.outputs.output1', 'lockbox.outputs.output2']\n",
      "done\n"
     ]
    }
   ],
   "source": [
    "s = r.scope # shortcut\n",
    "print(\"Available decimation factors:\", s.decimations)\n",
    "print(\"Trigger sources:\", s.trigger_sources)\n",
    "print(\"Available inputs: \", s.inputs)\n",
    "\n",
    "print('done')"
   ]
  },
  {
   "cell_type": "code",
   "execution_count": 23,
   "id": "91b9a40b",
   "metadata": {},
   "outputs": [
    {
     "data": {
      "text/plain": [
       "True"
      ]
     },
     "execution_count": 23,
     "metadata": {},
     "output_type": "execute_result"
    }
   ],
   "source": [
    "r.scope.ch1_active"
   ]
  },
  {
   "cell_type": "code",
   "execution_count": 24,
   "id": "b8722b83",
   "metadata": {},
   "outputs": [
    {
     "data": {
      "text/plain": [
       "False"
      ]
     },
     "execution_count": 24,
     "metadata": {},
     "output_type": "execute_result"
    }
   ],
   "source": [
    "s.curve_ready()\n"
   ]
  },
  {
   "cell_type": "code",
   "execution_count": 22,
   "id": "0abb17b1",
   "metadata": {},
   "outputs": [
    {
     "data": {
      "text/plain": [
       "<pyrpl.hardware_modules.scope.Scope at 0x7fae40fb0310>"
      ]
     },
     "execution_count": 22,
     "metadata": {},
     "output_type": "execute_result"
    }
   ],
   "source": [
    "s"
   ]
  },
  {
   "cell_type": "code",
   "execution_count": 24,
   "id": "446fc250",
   "metadata": {},
   "outputs": [
    {
     "data": {
      "text/plain": [
       "['in1',\n",
       " 'in2',\n",
       " 'out1',\n",
       " 'out2',\n",
       " 'iq0',\n",
       " 'iq1',\n",
       " 'iq2',\n",
       " 'iq2_2',\n",
       " 'pid0',\n",
       " 'pid1',\n",
       " 'pid2',\n",
       " 'asg0',\n",
       " 'asg1',\n",
       " 'trig',\n",
       " 'iir',\n",
       " 'off',\n",
       " 'networkanalyzer',\n",
       " 'lockbox.inputs.input_from_output',\n",
       " 'lockbox.outputs.output1',\n",
       " 'lockbox.outputs.output2']"
      ]
     },
     "execution_count": 24,
     "metadata": {},
     "output_type": "execute_result"
    }
   ],
   "source": [
    "s.input1_options"
   ]
  },
  {
   "cell_type": "code",
   "execution_count": 29,
   "id": "bebcc35e",
   "metadata": {},
   "outputs": [
    {
     "data": {
      "text/plain": [
       "'in1'"
      ]
     },
     "execution_count": 29,
     "metadata": {},
     "output_type": "execute_result"
    }
   ],
   "source": [
    "s.input1"
   ]
  },
  {
   "cell_type": "code",
   "execution_count": null,
   "id": "02e0a873",
   "metadata": {},
   "outputs": [],
   "source": []
  }
 ],
 "metadata": {
  "kernelspec": {
   "display_name": "Python 3 (ipykernel)",
   "language": "python",
   "name": "python3"
  },
  "language_info": {
   "codemirror_mode": {
    "name": "ipython",
    "version": 3
   },
   "file_extension": ".py",
   "mimetype": "text/x-python",
   "name": "python",
   "nbconvert_exporter": "python",
   "pygments_lexer": "ipython3",
   "version": "3.9.7"
  }
 },
 "nbformat": 4,
 "nbformat_minor": 5
}
